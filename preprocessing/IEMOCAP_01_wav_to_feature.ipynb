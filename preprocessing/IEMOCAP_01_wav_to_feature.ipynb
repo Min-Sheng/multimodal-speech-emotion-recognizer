{
 "cells": [
  {
   "cell_type": "markdown",
   "metadata": {},
   "source": [
    "# extract audio feature"
   ]
  },
  {
   "cell_type": "markdown",
   "metadata": {},
   "source": [
    "## 01 test sample"
   ]
  },
  {
   "cell_type": "code",
   "execution_count": 1,
   "metadata": {},
   "outputs": [],
   "source": [
    "# import os\n",
    "# import csv"
   ]
  },
  {
   "cell_type": "code",
   "execution_count": 2,
   "metadata": {},
   "outputs": [],
   "source": [
    "# path = '../data/raw/IEMOCAP_full_release/Session1/sentences/wav/Ses01F_impro01/'\n",
    "# file_name = path + 'Ses01F_impro01_F002.wav'"
   ]
  },
  {
   "cell_type": "code",
   "execution_count": 3,
   "metadata": {},
   "outputs": [],
   "source": [
    "# out_file = '../data/processed/IEMOCAP/test.csv'"
   ]
  },
  {
   "cell_type": "code",
   "execution_count": 4,
   "metadata": {},
   "outputs": [],
   "source": [
    "# cmd = 'SMILExtract -C /home/dato/program/opensmile-2.3.0/config/modified_prosodyShsViterbiLoudness.conf -I ' + file_name + ' -O ' + out_file + ' -headercsv 1'\n",
    "\n",
    "# cmd = 'SMILExtract -C /home/dato/program/opensmile-2.3.0/config/modified_MFCC12_E_D_A_Z.conf -I ' + file_name + ' -O ' + out_file  + ' -headercsv 1'\n",
    "# cmd = 'SMILExtract -C /home/dato/program/opensmile-2.3.0/config/modified_MFCC12_E_D_A.conf -I ' + file_name + ' -csvoutput ' + out_file  + ' -headercsv 0' # MFCC12EDA case\n",
    "\n",
    "# cmd = 'SMILExtract -C /home/dato/program/opensmile-2.3.0/config/modified_emobase2010.conf -I ' + file_name + ' -csvoutput ' + out_file  + ' -headercsv 1'"
   ]
  },
  {
   "cell_type": "code",
   "execution_count": 5,
   "metadata": {},
   "outputs": [],
   "source": [
    "# print cmd\n",
    "# os.system(cmd)"
   ]
  },
  {
   "cell_type": "code",
   "execution_count": 6,
   "metadata": {},
   "outputs": [],
   "source": [
    "# lines = []\n",
    "# with open('../data/processed/IEMOCAP/processeed_prosody.csv') as f:\n",
    "#     csv_reader = csv.reader(f)\n",
    "#     lines = [x for x in csv_reader]        "
   ]
  },
  {
   "cell_type": "code",
   "execution_count": null,
   "metadata": {},
   "outputs": [],
   "source": []
  },
  {
   "cell_type": "markdown",
   "metadata": {},
   "source": [
    "## 01 extract MFCC / prosody / emobase feature from multiple files"
   ]
  },
  {
   "cell_type": "code",
   "execution_count": 1,
   "metadata": {},
   "outputs": [],
   "source": [
    "import os\n",
    "import sys\n",
    "import csv\n",
    "from file_util import *"
   ]
  },
  {
   "cell_type": "markdown",
   "metadata": {},
   "source": [
    "### select opensmile configuration"
   ]
  },
  {
   "cell_type": "markdown",
   "metadata": {},
   "source": [
    "### 01-1 MFCC EDA"
   ]
  },
  {
   "cell_type": "code",
   "execution_count": 13,
   "metadata": {},
   "outputs": [
    {
     "data": {
      "text/plain": [
       "'../data/processed/IEMOCAP/MFCC12EDA.csv'"
      ]
     },
     "execution_count": 13,
     "metadata": {},
     "output_type": "execute_result"
    }
   ],
   "source": [
    "# MFCC E D A Z\n",
    "# OPENSMILE_CONFIG_PATH = '/home/dato/program/opensmile-2.3.0/config/modified_MFCC12_E_D_A_Z.conf'   # normalized \n",
    "# out_file = '../data/processed/IEMOCAP/MFCC12EDAZ.csv'\n",
    "    \n",
    "    \n",
    "# MFCC E D A    \n",
    "OPENSMILE_CONFIG_PATH = '../opensmile-2.3.0/config/modified_MFCC12_E_D_A.conf'    \n",
    "out_file = '../data/processed/IEMOCAP/MFCC12EDA.csv'\n",
    "    \n",
    "out_file    "
   ]
  },
  {
   "cell_type": "code",
   "execution_count": 14,
   "metadata": {},
   "outputs": [],
   "source": [
    "def extract_feature( list_in_file, out_file ) :\n",
    "    print(out_file)\n",
    "    \n",
    "    cnt = 0    \n",
    "    for in_file in list_in_file:        \n",
    "        cmd = '../opensmile-2.3.0/SMILExtract -C ' + OPENSMILE_CONFIG_PATH + ' -I ' + in_file + ' -csvoutput ' + out_file + ' -headercsv 0'   # MFCC12EDA\n",
    "        os.system(cmd)\n",
    "        \n",
    "        cnt += 1\n",
    "        if cnt % 1000 == 0:\n",
    "            print(str(cnt) + \" / \" + str( len(list_in_file) ))\n",
    "            sys.stdout.flush()"
   ]
  },
  {
   "cell_type": "code",
   "execution_count": 15,
   "metadata": {},
   "outputs": [
    {
     "name": "stdout",
     "output_type": "stream",
     "text": [
      "Session1, #sum files: 1819\n",
      "Session2, #sum files: 3630\n",
      "Session3, #sum files: 5766\n",
      "Session4, #sum files: 7869\n",
      "Session5, #sum files: 10039\n",
      "../data/processed/IEMOCAP/MFCC12EDA.csv\n",
      "1000 / 10039\n",
      "2000 / 10039\n",
      "3000 / 10039\n",
      "4000 / 10039\n",
      "5000 / 10039\n",
      "6000 / 10039\n",
      "7000 / 10039\n",
      "8000 / 10039\n",
      "9000 / 10039\n",
      "10000 / 10039\n"
     ]
    }
   ],
   "source": [
    "# [schema] ID, transcriptions [csv]\n",
    "\n",
    "list_files = []\n",
    "\n",
    "for x in range(5):\n",
    "    sess_name = 'Session' + str(x+1)\n",
    "    path = '/media/vincentwu-cmlab/7C5650545650116E/IEMOCAP_full_release/' + sess_name + '/sentences/wav/'\n",
    "    file_search(path, list_files)\n",
    "    list_files = sorted(list_files)\n",
    "\n",
    "    print(sess_name + \", #sum files: \" + str(len(list_files)))\n",
    "\n",
    "extract_feature( list_files, out_file )"
   ]
  },
  {
   "cell_type": "code",
   "execution_count": 16,
   "metadata": {},
   "outputs": [
    {
     "data": {
      "text/plain": [
       "4457391"
      ]
     },
     "execution_count": 16,
     "metadata": {},
     "output_type": "execute_result"
    }
   ],
   "source": [
    "with open('../data/processed/IEMOCAP/MFCC12EDA.csv') as f:\n",
    "    data = f.readlines()\n",
    "len(data)"
   ]
  },
  {
   "cell_type": "code",
   "execution_count": 17,
   "metadata": {},
   "outputs": [
    {
     "data": {
      "text/plain": [
       "\"'unknown';0.000000;-6.109063e+00;-1.402485e+01;6.732334e+00;-2.546580e+01;6.154064e+00;-1.788557e+01;7.608351e+00;-2.189163e+01;-2.357442e+00;3.110784e+00;1.537108e+01;2.076878e+00;1.549505e+01;9.102133e-01;-1.072148e+00;1.679793e+00;1.134925e+00;-1.113732e+00;-1.536330e+00;-3.516938e-01;2.706557e+00;2.835391e+00;-4.857987e-01;-2.045343e+00;-4.918588e+00;1.934452e-02;1.112184e-01;4.612768e-01;-4.294964e-01;2.867500e-01;4.323775e-01;7.239794e-01;8.828823e-01;6.933536e-02;1.803979e-01;-5.409566e-01;-2.570944e-01;4.309425e-01;-2.529488e-02\\n\""
      ]
     },
     "execution_count": 17,
     "metadata": {},
     "output_type": "execute_result"
    }
   ],
   "source": [
    "data[0]"
   ]
  },
  {
   "cell_type": "code",
   "execution_count": null,
   "metadata": {},
   "outputs": [],
   "source": []
  },
  {
   "cell_type": "markdown",
   "metadata": {},
   "source": [
    "### 01-2 prosody"
   ]
  },
  {
   "cell_type": "code",
   "execution_count": 2,
   "metadata": {},
   "outputs": [
    {
     "data": {
      "text/plain": [
       "'../data/processed/IEMOCAP/prosody.csv'"
      ]
     },
     "execution_count": 2,
     "metadata": {},
     "output_type": "execute_result"
    }
   ],
   "source": [
    "# prosody\n",
    "OPENSMILE_CONFIG_PATH = '../opensmile-2.3.0/config/modified_prosodyShsViterbiLoudness.conf'\n",
    "out_file = '../data/processed/IEMOCAP/prosody.csv'\n",
    "    \n",
    "out_file"
   ]
  },
  {
   "cell_type": "code",
   "execution_count": 3,
   "metadata": {},
   "outputs": [],
   "source": [
    "def extract_feature( list_in_file, out_file ) :\n",
    "    print(out_file)\n",
    "    \n",
    "    cnt = 0    \n",
    "    for in_file in list_in_file:        \n",
    "        cmd = '../opensmile-2.3.0/SMILExtract -C ' + OPENSMILE_CONFIG_PATH + ' -I ' + in_file + ' -csvoutput ' + out_file + ' -headercsv 0'  #MFCC12EDAZ, prosody\n",
    "        os.system(cmd)\n",
    "        \n",
    "        cnt += 1\n",
    "        if cnt % 1000 == 0:\n",
    "            print(str(cnt) + \" / \" + str( len(list_in_file) ))\n",
    "            sys.stdout.flush()"
   ]
  },
  {
   "cell_type": "code",
   "execution_count": 4,
   "metadata": {},
   "outputs": [
    {
     "name": "stdout",
     "output_type": "stream",
     "text": [
      "Session1, #sum files: 1819\n",
      "Session2, #sum files: 3630\n",
      "Session3, #sum files: 5766\n",
      "Session4, #sum files: 7869\n",
      "Session5, #sum files: 10039\n",
      "../data/processed/IEMOCAP/prosody.csv\n",
      "1000 / 10039\n",
      "2000 / 10039\n",
      "3000 / 10039\n",
      "4000 / 10039\n",
      "5000 / 10039\n",
      "6000 / 10039\n",
      "7000 / 10039\n",
      "8000 / 10039\n",
      "9000 / 10039\n",
      "10000 / 10039\n"
     ]
    }
   ],
   "source": [
    "# [schema] ID, transcriptions [csv]\n",
    "\n",
    "list_files = []\n",
    "\n",
    "for x in range(5):\n",
    "    sess_name = 'Session' + str(x+1)\n",
    "    path = '/media/vincentwu-cmlab/7C5650545650116E/IEMOCAP_full_release/' + sess_name + '/sentences/wav/'\n",
    "    file_search(path, list_files)\n",
    "    list_files = sorted(list_files)\n",
    "\n",
    "    print(sess_name + \", #sum files: \" + str(len(list_files)))\n",
    "\n",
    "extract_feature( list_files, out_file )"
   ]
  },
  {
   "cell_type": "code",
   "execution_count": null,
   "metadata": {},
   "outputs": [],
   "source": []
  },
  {
   "cell_type": "code",
   "execution_count": null,
   "metadata": {},
   "outputs": [],
   "source": []
  },
  {
   "cell_type": "markdown",
   "metadata": {
    "collapsed": true
   },
   "source": [
    "### 01-3 emobase"
   ]
  },
  {
   "cell_type": "code",
   "execution_count": 5,
   "metadata": {},
   "outputs": [
    {
     "data": {
      "text/plain": [
       "'../data/processed/IEMOCAP/emobase2010.csv'"
      ]
     },
     "execution_count": 5,
     "metadata": {},
     "output_type": "execute_result"
    }
   ],
   "source": [
    "# emobase2010\n",
    "OPENSMILE_CONFIG_PATH = '../opensmile-2.3.0/config/modified_emobase2010.conf'    \n",
    "out_file = '../data/processed/IEMOCAP/emobase2010.csv'\n",
    "    \n",
    "out_file    "
   ]
  },
  {
   "cell_type": "code",
   "execution_count": 6,
   "metadata": {},
   "outputs": [],
   "source": [
    "def extract_feature( list_in_file, out_file ) :\n",
    "    print(out_file)\n",
    "    \n",
    "    cnt = 0    \n",
    "    for in_file in list_in_file:        \n",
    "        cmd = '../opensmile-2.3.0/SMILExtract -C ' + OPENSMILE_CONFIG_PATH + ' -I ' + in_file + ' -csvoutput ' + out_file + ' -headercsv 0'   # emobase2010\n",
    "        os.system(cmd)\n",
    "        \n",
    "        cnt += 1\n",
    "        if cnt % 1000 == 0:\n",
    "            print(str(cnt) + \" / \" + str( len(list_in_file) ))\n",
    "            sys.stdout.flush()"
   ]
  },
  {
   "cell_type": "code",
   "execution_count": 7,
   "metadata": {},
   "outputs": [
    {
     "name": "stdout",
     "output_type": "stream",
     "text": [
      "Session1, #sum files: 1819\n",
      "Session2, #sum files: 3630\n",
      "Session3, #sum files: 5766\n",
      "Session4, #sum files: 7869\n",
      "Session5, #sum files: 10039\n",
      "../data/processed/IEMOCAP/emobase2010.csv\n",
      "1000 / 10039\n",
      "2000 / 10039\n",
      "3000 / 10039\n",
      "4000 / 10039\n",
      "5000 / 10039\n",
      "6000 / 10039\n",
      "7000 / 10039\n",
      "8000 / 10039\n",
      "9000 / 10039\n",
      "10000 / 10039\n"
     ]
    }
   ],
   "source": [
    "# [schema] ID, transcriptions [csv]\n",
    "\n",
    "list_files = []\n",
    "\n",
    "for x in range(5):\n",
    "    sess_name = 'Session' + str(x+1)\n",
    "    path = '/media/vincentwu-cmlab/7C5650545650116E/IEMOCAP_full_release/' + sess_name + '/sentences/wav/'\n",
    "    file_search(path, list_files)\n",
    "    list_files = sorted(list_files)\n",
    "\n",
    "    print(sess_name + \", #sum files: \" + str(len(list_files)))\n",
    "\n",
    "extract_feature( list_files, out_file )"
   ]
  },
  {
   "cell_type": "code",
   "execution_count": null,
   "metadata": {},
   "outputs": [],
   "source": []
  },
  {
   "cell_type": "code",
   "execution_count": null,
   "metadata": {},
   "outputs": [],
   "source": []
  },
  {
   "cell_type": "markdown",
   "metadata": {},
   "source": [
    "## 02 verify"
   ]
  },
  {
   "cell_type": "code",
   "execution_count": 8,
   "metadata": {},
   "outputs": [],
   "source": [
    "import csv\n",
    "from file_util import *"
   ]
  },
  {
   "cell_type": "code",
   "execution_count": 9,
   "metadata": {},
   "outputs": [],
   "source": [
    "in_file = '../data/processed/IEMOCAP/label.csv'\n",
    "label = []\n",
    "with open( in_file, 'r') as f:\n",
    "    csv_reader = csv.reader( f )\n",
    "    label = [x for x in csv_reader]\n",
    "    \n",
    "label_id = [ x[0] for x in label]"
   ]
  },
  {
   "cell_type": "code",
   "execution_count": 10,
   "metadata": {},
   "outputs": [
    {
     "name": "stdout",
     "output_type": "stream",
     "text": [
      "Session1, #sum files: 1819\n",
      "Session2, #sum files: 3630\n",
      "Session3, #sum files: 5766\n",
      "Session4, #sum files: 7869\n",
      "Session5, #sum files: 10039\n"
     ]
    }
   ],
   "source": [
    "list_files = []\n",
    "\n",
    "for x in range(5):\n",
    "    sess_name = 'Session' + str(x+1)\n",
    "    path = '/media/vincentwu-cmlab/7C5650545650116E/IEMOCAP_full_release/' + sess_name + '/sentences/wav/'\n",
    "    file_search(path, list_files)\n",
    "    list_files = sorted(list_files)\n",
    "    for list_file in list_files:\n",
    "        if (list_file.split('/')[-1].split('.')[1]!='wav'):\n",
    "            print(list_file)\n",
    "    print(sess_name + \", #sum files: \" + str(len(list_files)))\n",
    "    \n",
    "ids = [ x.split('/')[-1].split('.')[0] for x in list_files ]"
   ]
  },
  {
   "cell_type": "code",
   "execution_count": 11,
   "metadata": {},
   "outputs": [],
   "source": [
    "for l, t in zip(label_id, ids):\n",
    "    if l != t:\n",
    "        print('ERROR', l, t)"
   ]
  },
  {
   "cell_type": "code",
   "execution_count": null,
   "metadata": {},
   "outputs": [],
   "source": []
  },
  {
   "cell_type": "markdown",
   "metadata": {},
   "source": [
    "## 03 A MFCC post-process\n",
    "- each row has MFCC feature information (41 dimesion) * audio length --> can be different according to its length\n",
    "- [0]frameIndex; [1]frameTime; were removed from processed feature\n",
    "- (10039, 750, 39)"
   ]
  },
  {
   "cell_type": "code",
   "execution_count": 10,
   "metadata": {},
   "outputs": [],
   "source": [
    "import csv\n",
    "import numpy as np\n",
    "import pandas as pd"
   ]
  },
  {
   "cell_type": "markdown",
   "metadata": {},
   "source": [
    "#### 03-A load MFCC feature"
   ]
  },
  {
   "cell_type": "code",
   "execution_count": 11,
   "metadata": {},
   "outputs": [],
   "source": [
    "mfcc = pd.read_csv('../data/processed/IEMOCAP/MFCC12EDA.csv', sep=';', header=None)"
   ]
  },
  {
   "cell_type": "code",
   "execution_count": 12,
   "metadata": {},
   "outputs": [],
   "source": [
    "mfcc.columns = ['mfcc_' + str(col) for col in mfcc.columns]"
   ]
  },
  {
   "cell_type": "code",
   "execution_count": 45,
   "metadata": {},
   "outputs": [
    {
     "data": {
      "text/html": [
       "<div>\n",
       "<style scoped>\n",
       "    .dataframe tbody tr th:only-of-type {\n",
       "        vertical-align: middle;\n",
       "    }\n",
       "\n",
       "    .dataframe tbody tr th {\n",
       "        vertical-align: top;\n",
       "    }\n",
       "\n",
       "    .dataframe thead th {\n",
       "        text-align: right;\n",
       "    }\n",
       "</style>\n",
       "<table border=\"1\" class=\"dataframe\">\n",
       "  <thead>\n",
       "    <tr style=\"text-align: right;\">\n",
       "      <th></th>\n",
       "      <th>mfcc_0</th>\n",
       "      <th>mfcc_1</th>\n",
       "      <th>mfcc_2</th>\n",
       "      <th>mfcc_3</th>\n",
       "      <th>mfcc_4</th>\n",
       "      <th>mfcc_5</th>\n",
       "      <th>mfcc_6</th>\n",
       "      <th>mfcc_7</th>\n",
       "      <th>mfcc_8</th>\n",
       "      <th>mfcc_9</th>\n",
       "      <th>...</th>\n",
       "      <th>mfcc_31</th>\n",
       "      <th>mfcc_32</th>\n",
       "      <th>mfcc_33</th>\n",
       "      <th>mfcc_34</th>\n",
       "      <th>mfcc_35</th>\n",
       "      <th>mfcc_36</th>\n",
       "      <th>mfcc_37</th>\n",
       "      <th>mfcc_38</th>\n",
       "      <th>mfcc_39</th>\n",
       "      <th>mfcc_40</th>\n",
       "    </tr>\n",
       "  </thead>\n",
       "  <tbody>\n",
       "    <tr>\n",
       "      <th>0</th>\n",
       "      <td>'unknown'</td>\n",
       "      <td>0.00</td>\n",
       "      <td>-6.109063</td>\n",
       "      <td>-14.02485</td>\n",
       "      <td>6.732334</td>\n",
       "      <td>-25.46580</td>\n",
       "      <td>6.154064</td>\n",
       "      <td>-17.88557</td>\n",
       "      <td>7.608351</td>\n",
       "      <td>-21.891630</td>\n",
       "      <td>...</td>\n",
       "      <td>0.286750</td>\n",
       "      <td>0.432377</td>\n",
       "      <td>0.723979</td>\n",
       "      <td>0.882882</td>\n",
       "      <td>0.069335</td>\n",
       "      <td>0.180398</td>\n",
       "      <td>-0.540957</td>\n",
       "      <td>-0.257094</td>\n",
       "      <td>0.430943</td>\n",
       "      <td>-0.025295</td>\n",
       "    </tr>\n",
       "    <tr>\n",
       "      <th>1</th>\n",
       "      <td>'unknown'</td>\n",
       "      <td>0.01</td>\n",
       "      <td>-3.712088</td>\n",
       "      <td>-19.80456</td>\n",
       "      <td>10.101170</td>\n",
       "      <td>-21.71370</td>\n",
       "      <td>-2.548810</td>\n",
       "      <td>-25.20391</td>\n",
       "      <td>0.034474</td>\n",
       "      <td>-23.605340</td>\n",
       "      <td>...</td>\n",
       "      <td>0.367581</td>\n",
       "      <td>0.859232</td>\n",
       "      <td>1.380296</td>\n",
       "      <td>1.035713</td>\n",
       "      <td>-0.767511</td>\n",
       "      <td>-0.720450</td>\n",
       "      <td>-1.178999</td>\n",
       "      <td>-0.008304</td>\n",
       "      <td>1.646695</td>\n",
       "      <td>-0.028977</td>\n",
       "    </tr>\n",
       "    <tr>\n",
       "      <th>2</th>\n",
       "      <td>'unknown'</td>\n",
       "      <td>0.02</td>\n",
       "      <td>-2.756484</td>\n",
       "      <td>-16.49574</td>\n",
       "      <td>13.446880</td>\n",
       "      <td>-21.66722</td>\n",
       "      <td>4.936839</td>\n",
       "      <td>-21.90806</td>\n",
       "      <td>9.636821</td>\n",
       "      <td>-7.501988</td>\n",
       "      <td>...</td>\n",
       "      <td>-0.053051</td>\n",
       "      <td>0.702945</td>\n",
       "      <td>1.619452</td>\n",
       "      <td>0.298885</td>\n",
       "      <td>-1.567960</td>\n",
       "      <td>-1.391769</td>\n",
       "      <td>-1.037020</td>\n",
       "      <td>0.448385</td>\n",
       "      <td>2.323215</td>\n",
       "      <td>-0.023910</td>\n",
       "    </tr>\n",
       "    <tr>\n",
       "      <th>3</th>\n",
       "      <td>'unknown'</td>\n",
       "      <td>0.03</td>\n",
       "      <td>-1.430287</td>\n",
       "      <td>-14.00118</td>\n",
       "      <td>8.582678</td>\n",
       "      <td>-17.58211</td>\n",
       "      <td>4.218666</td>\n",
       "      <td>-21.55818</td>\n",
       "      <td>18.152650</td>\n",
       "      <td>-0.833228</td>\n",
       "      <td>...</td>\n",
       "      <td>-0.759775</td>\n",
       "      <td>0.402545</td>\n",
       "      <td>0.893971</td>\n",
       "      <td>-1.149457</td>\n",
       "      <td>-1.780765</td>\n",
       "      <td>-1.933893</td>\n",
       "      <td>0.285618</td>\n",
       "      <td>1.482335</td>\n",
       "      <td>2.337240</td>\n",
       "      <td>-0.012445</td>\n",
       "    </tr>\n",
       "    <tr>\n",
       "      <th>4</th>\n",
       "      <td>'unknown'</td>\n",
       "      <td>0.04</td>\n",
       "      <td>-0.820436</td>\n",
       "      <td>-12.82985</td>\n",
       "      <td>6.748812</td>\n",
       "      <td>-16.74240</td>\n",
       "      <td>6.498776</td>\n",
       "      <td>-10.28950</td>\n",
       "      <td>12.204350</td>\n",
       "      <td>-25.371740</td>\n",
       "      <td>...</td>\n",
       "      <td>-0.838941</td>\n",
       "      <td>-0.279553</td>\n",
       "      <td>-0.817222</td>\n",
       "      <td>-1.662912</td>\n",
       "      <td>0.078349</td>\n",
       "      <td>-1.228943</td>\n",
       "      <td>1.995497</td>\n",
       "      <td>0.761426</td>\n",
       "      <td>1.099876</td>\n",
       "      <td>-0.018727</td>\n",
       "    </tr>\n",
       "  </tbody>\n",
       "</table>\n",
       "<p>5 rows × 41 columns</p>\n",
       "</div>"
      ],
      "text/plain": [
       "      mfcc_0  mfcc_1    mfcc_2    mfcc_3     mfcc_4    mfcc_5    mfcc_6  \\\n",
       "0  'unknown'    0.00 -6.109063 -14.02485   6.732334 -25.46580  6.154064   \n",
       "1  'unknown'    0.01 -3.712088 -19.80456  10.101170 -21.71370 -2.548810   \n",
       "2  'unknown'    0.02 -2.756484 -16.49574  13.446880 -21.66722  4.936839   \n",
       "3  'unknown'    0.03 -1.430287 -14.00118   8.582678 -17.58211  4.218666   \n",
       "4  'unknown'    0.04 -0.820436 -12.82985   6.748812 -16.74240  6.498776   \n",
       "\n",
       "     mfcc_7     mfcc_8     mfcc_9  ...   mfcc_31   mfcc_32   mfcc_33  \\\n",
       "0 -17.88557   7.608351 -21.891630  ...  0.286750  0.432377  0.723979   \n",
       "1 -25.20391   0.034474 -23.605340  ...  0.367581  0.859232  1.380296   \n",
       "2 -21.90806   9.636821  -7.501988  ... -0.053051  0.702945  1.619452   \n",
       "3 -21.55818  18.152650  -0.833228  ... -0.759775  0.402545  0.893971   \n",
       "4 -10.28950  12.204350 -25.371740  ... -0.838941 -0.279553 -0.817222   \n",
       "\n",
       "    mfcc_34   mfcc_35   mfcc_36   mfcc_37   mfcc_38   mfcc_39   mfcc_40  \n",
       "0  0.882882  0.069335  0.180398 -0.540957 -0.257094  0.430943 -0.025295  \n",
       "1  1.035713 -0.767511 -0.720450 -1.178999 -0.008304  1.646695 -0.028977  \n",
       "2  0.298885 -1.567960 -1.391769 -1.037020  0.448385  2.323215 -0.023910  \n",
       "3 -1.149457 -1.780765 -1.933893  0.285618  1.482335  2.337240 -0.012445  \n",
       "4 -1.662912  0.078349 -1.228943  1.995497  0.761426  1.099876 -0.018727  \n",
       "\n",
       "[5 rows x 41 columns]"
      ]
     },
     "execution_count": 45,
     "metadata": {},
     "output_type": "execute_result"
    }
   ],
   "source": [
    "mfcc.head()"
   ]
  },
  {
   "cell_type": "code",
   "execution_count": 9,
   "metadata": {},
   "outputs": [
    {
     "data": {
      "text/plain": [
       "4457391"
      ]
     },
     "execution_count": 9,
     "metadata": {},
     "output_type": "execute_result"
    }
   ],
   "source": [
    "len(mfcc)"
   ]
  },
  {
   "cell_type": "code",
   "execution_count": 5,
   "metadata": {},
   "outputs": [],
   "source": [
    "#lines = []\n",
    "## with open('../data/processed/IEMOCAP/MFCC12EDAZ.csv') as f:\n",
    "#with open('../data/processed/IEMOCAP/MFCC12EDA.csv') as f:\n",
    "#    csv_reader = csv.reader(f)\n",
    "#    lines = [x for x in csv_reader]"
   ]
  },
  {
   "cell_type": "code",
   "execution_count": 6,
   "metadata": {},
   "outputs": [],
   "source": [
    "#len(lines)"
   ]
  },
  {
   "cell_type": "markdown",
   "metadata": {},
   "source": [
    "#### 03-B MFCC feature -> float value"
   ]
  },
  {
   "cell_type": "code",
   "execution_count": 13,
   "metadata": {},
   "outputs": [],
   "source": [
    "chunk_index = mfcc[mfcc['mfcc_1']==0].index.to_list()"
   ]
  },
  {
   "cell_type": "code",
   "execution_count": 14,
   "metadata": {},
   "outputs": [],
   "source": [
    "mfcc.drop(columns=['mfcc_0', 'mfcc_1'],axis=1,inplace=True)"
   ]
  },
  {
   "cell_type": "code",
   "execution_count": 15,
   "metadata": {},
   "outputs": [],
   "source": [
    "# merge sequence \n",
    "\n",
    "list_MFCC = []\n",
    "\n",
    "for i in range( len(chunk_index) ):\n",
    "    \n",
    "    if i == len(chunk_index) -1:        # last case\n",
    "        list_MFCC.append( mfcc.loc[ chunk_index[i]: ].values.tolist() )\n",
    "    else :\n",
    "        list_MFCC.append( mfcc.loc[ chunk_index[i]:chunk_index[i+1] ].values.tolist() )"
   ]
  },
  {
   "cell_type": "code",
   "execution_count": 7,
   "metadata": {},
   "outputs": [],
   "source": [
    "#lines = [x[0] for x in lines]"
   ]
  },
  {
   "cell_type": "code",
   "execution_count": 8,
   "metadata": {},
   "outputs": [],
   "source": [
    "#lines = [x.split(';') for x in lines]"
   ]
  },
  {
   "cell_type": "code",
   "execution_count": 9,
   "metadata": {},
   "outputs": [],
   "source": [
    "#float_lines = [ [float(i) for i in x[1:]] for x in lines ]   # do not care the first element"
   ]
  },
  {
   "cell_type": "code",
   "execution_count": 10,
   "metadata": {},
   "outputs": [],
   "source": [
    "## mark the index of each chunk \n",
    "\n",
    "#chunk_index = []\n",
    "#for i, line in enumerate(float_lines):\n",
    "#    if line[0] == 0:\n",
    "#        chunk_index.append(i)"
   ]
  },
  {
   "cell_type": "code",
   "execution_count": 11,
   "metadata": {},
   "outputs": [],
   "source": [
    "#no_index_float_linex = [ x[1:] for x in float_lines ]   # remove first two element (sequence index)"
   ]
  },
  {
   "cell_type": "code",
   "execution_count": 12,
   "metadata": {},
   "outputs": [],
   "source": [
    "## merge sequence \n",
    "\n",
    "#list_MFCC = []\n",
    "\n",
    "#for i in range( len(chunk_index) ):\n",
    "    \n",
    "#    if i == len(chunk_index) -1:        # last case\n",
    "#        list_MFCC.append( no_index_float_linex[ chunk_index[i]: ] )\n",
    "#    else :\n",
    "#        list_MFCC.append( no_index_float_linex[ chunk_index[i]:chunk_index[i+1] ] )"
   ]
  },
  {
   "cell_type": "markdown",
   "metadata": {},
   "source": [
    "#### 03-C numpy save  7.5s cut"
   ]
  },
  {
   "cell_type": "code",
   "execution_count": 8,
   "metadata": {},
   "outputs": [
    {
     "name": "stdout",
     "output_type": "stream",
     "text": [
      "445.00737125211674\n",
      "306.45629549312247\n",
      "3413\n",
      "57\n"
     ]
    }
   ],
   "source": [
    "stat = [ len(x) for x in list_MFCC ]\n",
    "print(np.mean(stat))\n",
    "print(np.std(stat))\n",
    "print(np.max(stat))\n",
    "print(np.min(stat))"
   ]
  },
  {
   "cell_type": "code",
   "execution_count": 16,
   "metadata": {},
   "outputs": [],
   "source": [
    "# np.save('../data/processed/IEMOCAP/processed_MFCC12EDAZ_sequenceN.npy', np.asarray(stat))\n",
    "np.save('../data/processed/IEMOCAP/processed_MFCC12EDA_sequenceN.npy', np.asarray(stat))"
   ]
  },
  {
   "cell_type": "code",
   "execution_count": 17,
   "metadata": {},
   "outputs": [],
   "source": [
    "# with open('../data/processed/IEMOCAP/processed_MFCC12EDAZ_sequenceN.txt', 'w') as f:\n",
    "with open('../data/processed/IEMOCAP/processed_MFCC12EDA_sequenceN.txt', 'w') as f:\n",
    "    for data in stat:\n",
    "        f.write( str(data) + '\\n' )"
   ]
  },
  {
   "cell_type": "code",
   "execution_count": 16,
   "metadata": {},
   "outputs": [
    {
     "data": {
      "text/plain": [
       "(10039, 750, 39)"
      ]
     },
     "execution_count": 16,
     "metadata": {},
     "output_type": "execute_result"
    }
   ],
   "source": [
    "np_MFCC = np.zeros( [10039, 750, 39], dtype=np.float)\n",
    "np.shape(np_MFCC)"
   ]
  },
  {
   "cell_type": "code",
   "execution_count": 17,
   "metadata": {},
   "outputs": [],
   "source": [
    "for i in range( len(list_MFCC) ):\n",
    "    \n",
    "    if len( list_MFCC[i] ) > 750:\n",
    "        np_MFCC[i][:] = list_MFCC[i][:750]\n",
    "    else:\n",
    "        np_MFCC[i][:len(list_MFCC[i])] = list_MFCC[i][:]"
   ]
  },
  {
   "cell_type": "code",
   "execution_count": 18,
   "metadata": {},
   "outputs": [],
   "source": [
    "# np.save('../data/processed/IEMOCAP/processed_MFCC12EDAZ.npy', np_MFCC)\n",
    "np.save('../data/processed/IEMOCAP/processed_MFCC12EDA.npy', np_MFCC)"
   ]
  },
  {
   "cell_type": "code",
   "execution_count": null,
   "metadata": {},
   "outputs": [],
   "source": []
  },
  {
   "cell_type": "markdown",
   "metadata": {},
   "source": [
    "## 04 prosody post-process\n",
    "- [0]@name string; [36]class numeric; were removed from original feature (total 37)\n",
    "- (10039, 35) "
   ]
  },
  {
   "cell_type": "markdown",
   "metadata": {},
   "source": [
    "#### 04-A load prosody feature  &  conver to np format"
   ]
  },
  {
   "cell_type": "code",
   "execution_count": 1,
   "metadata": {},
   "outputs": [],
   "source": [
    "import csv\n",
    "import numpy as np\n",
    "import pandas as pd"
   ]
  },
  {
   "cell_type": "code",
   "execution_count": 2,
   "metadata": {},
   "outputs": [],
   "source": [
    "prosody = pd.read_csv('../data/processed/IEMOCAP/prosody.csv', sep=';', header=None)"
   ]
  },
  {
   "cell_type": "code",
   "execution_count": 4,
   "metadata": {},
   "outputs": [],
   "source": [
    "prosody.columns = ['prosody_' + str(col) for col in prosody.columns]"
   ]
  },
  {
   "cell_type": "code",
   "execution_count": 5,
   "metadata": {},
   "outputs": [
    {
     "data": {
      "text/html": [
       "<div>\n",
       "<style scoped>\n",
       "    .dataframe tbody tr th:only-of-type {\n",
       "        vertical-align: middle;\n",
       "    }\n",
       "\n",
       "    .dataframe tbody tr th {\n",
       "        vertical-align: top;\n",
       "    }\n",
       "\n",
       "    .dataframe thead th {\n",
       "        text-align: right;\n",
       "    }\n",
       "</style>\n",
       "<table border=\"1\" class=\"dataframe\">\n",
       "  <thead>\n",
       "    <tr style=\"text-align: right;\">\n",
       "      <th></th>\n",
       "      <th>prosody_0</th>\n",
       "      <th>prosody_1</th>\n",
       "      <th>prosody_2</th>\n",
       "      <th>prosody_3</th>\n",
       "      <th>prosody_4</th>\n",
       "      <th>prosody_5</th>\n",
       "      <th>prosody_6</th>\n",
       "      <th>prosody_7</th>\n",
       "      <th>prosody_8</th>\n",
       "      <th>prosody_9</th>\n",
       "      <th>...</th>\n",
       "      <th>prosody_27</th>\n",
       "      <th>prosody_28</th>\n",
       "      <th>prosody_29</th>\n",
       "      <th>prosody_30</th>\n",
       "      <th>prosody_31</th>\n",
       "      <th>prosody_32</th>\n",
       "      <th>prosody_33</th>\n",
       "      <th>prosody_34</th>\n",
       "      <th>prosody_35</th>\n",
       "      <th>prosody_36</th>\n",
       "    </tr>\n",
       "  </thead>\n",
       "  <tbody>\n",
       "    <tr>\n",
       "      <th>0</th>\n",
       "      <td>'unknown'</td>\n",
       "      <td>0.0</td>\n",
       "      <td>20.64425</td>\n",
       "      <td>232.1275</td>\n",
       "      <td>2.030399</td>\n",
       "      <td>0.506444</td>\n",
       "      <td>209.3577</td>\n",
       "      <td>266.9864</td>\n",
       "      <td>57.62862</td>\n",
       "      <td>1.513165</td>\n",
       "      <td>...</td>\n",
       "      <td>8.299117</td>\n",
       "      <td>12.108230</td>\n",
       "      <td>3.809111</td>\n",
       "      <td>0.099029</td>\n",
       "      <td>0.174755</td>\n",
       "      <td>-0.000049</td>\n",
       "      <td>0.492939</td>\n",
       "      <td>0.106559</td>\n",
       "      <td>0.317760</td>\n",
       "      <td>0.211201</td>\n",
       "    </tr>\n",
       "    <tr>\n",
       "      <th>1</th>\n",
       "      <td>'unknown'</td>\n",
       "      <td>0.0</td>\n",
       "      <td>10.81076</td>\n",
       "      <td>194.5723</td>\n",
       "      <td>-3.378786</td>\n",
       "      <td>0.438759</td>\n",
       "      <td>179.0551</td>\n",
       "      <td>207.1413</td>\n",
       "      <td>28.08618</td>\n",
       "      <td>0.973374</td>\n",
       "      <td>...</td>\n",
       "      <td>-0.054581</td>\n",
       "      <td>8.658173</td>\n",
       "      <td>8.712753</td>\n",
       "      <td>0.233649</td>\n",
       "      <td>0.200129</td>\n",
       "      <td>-0.000010</td>\n",
       "      <td>0.495782</td>\n",
       "      <td>0.092931</td>\n",
       "      <td>0.513417</td>\n",
       "      <td>0.420486</td>\n",
       "    </tr>\n",
       "    <tr>\n",
       "      <th>2</th>\n",
       "      <td>'unknown'</td>\n",
       "      <td>0.0</td>\n",
       "      <td>33.05114</td>\n",
       "      <td>197.8396</td>\n",
       "      <td>1.728453</td>\n",
       "      <td>0.522605</td>\n",
       "      <td>167.1211</td>\n",
       "      <td>253.2337</td>\n",
       "      <td>86.11264</td>\n",
       "      <td>2.739230</td>\n",
       "      <td>...</td>\n",
       "      <td>3.998094</td>\n",
       "      <td>8.358664</td>\n",
       "      <td>4.360570</td>\n",
       "      <td>0.166883</td>\n",
       "      <td>0.178108</td>\n",
       "      <td>0.000614</td>\n",
       "      <td>0.587990</td>\n",
       "      <td>0.087535</td>\n",
       "      <td>0.407907</td>\n",
       "      <td>0.320373</td>\n",
       "    </tr>\n",
       "    <tr>\n",
       "      <th>3</th>\n",
       "      <td>'unknown'</td>\n",
       "      <td>0.0</td>\n",
       "      <td>36.22232</td>\n",
       "      <td>199.3219</td>\n",
       "      <td>-2.667096</td>\n",
       "      <td>0.452827</td>\n",
       "      <td>151.7962</td>\n",
       "      <td>244.4760</td>\n",
       "      <td>92.67975</td>\n",
       "      <td>3.216807</td>\n",
       "      <td>...</td>\n",
       "      <td>3.699540</td>\n",
       "      <td>11.407430</td>\n",
       "      <td>7.707888</td>\n",
       "      <td>0.207825</td>\n",
       "      <td>0.241734</td>\n",
       "      <td>-0.000744</td>\n",
       "      <td>0.458649</td>\n",
       "      <td>0.110917</td>\n",
       "      <td>0.648779</td>\n",
       "      <td>0.537863</td>\n",
       "    </tr>\n",
       "    <tr>\n",
       "      <th>4</th>\n",
       "      <td>'unknown'</td>\n",
       "      <td>0.0</td>\n",
       "      <td>36.19945</td>\n",
       "      <td>211.1463</td>\n",
       "      <td>-0.504644</td>\n",
       "      <td>0.463565</td>\n",
       "      <td>170.2304</td>\n",
       "      <td>260.9392</td>\n",
       "      <td>90.70880</td>\n",
       "      <td>2.907790</td>\n",
       "      <td>...</td>\n",
       "      <td>3.568487</td>\n",
       "      <td>11.231240</td>\n",
       "      <td>7.662752</td>\n",
       "      <td>0.326095</td>\n",
       "      <td>0.407384</td>\n",
       "      <td>0.001590</td>\n",
       "      <td>0.609136</td>\n",
       "      <td>0.088405</td>\n",
       "      <td>0.823303</td>\n",
       "      <td>0.734897</td>\n",
       "    </tr>\n",
       "  </tbody>\n",
       "</table>\n",
       "<p>5 rows × 37 columns</p>\n",
       "</div>"
      ],
      "text/plain": [
       "   prosody_0  prosody_1  prosody_2  prosody_3  prosody_4  prosody_5  \\\n",
       "0  'unknown'        0.0   20.64425   232.1275   2.030399   0.506444   \n",
       "1  'unknown'        0.0   10.81076   194.5723  -3.378786   0.438759   \n",
       "2  'unknown'        0.0   33.05114   197.8396   1.728453   0.522605   \n",
       "3  'unknown'        0.0   36.22232   199.3219  -2.667096   0.452827   \n",
       "4  'unknown'        0.0   36.19945   211.1463  -0.504644   0.463565   \n",
       "\n",
       "   prosody_6  prosody_7  prosody_8  prosody_9  ...  prosody_27  prosody_28  \\\n",
       "0   209.3577   266.9864   57.62862   1.513165  ...    8.299117   12.108230   \n",
       "1   179.0551   207.1413   28.08618   0.973374  ...   -0.054581    8.658173   \n",
       "2   167.1211   253.2337   86.11264   2.739230  ...    3.998094    8.358664   \n",
       "3   151.7962   244.4760   92.67975   3.216807  ...    3.699540   11.407430   \n",
       "4   170.2304   260.9392   90.70880   2.907790  ...    3.568487   11.231240   \n",
       "\n",
       "   prosody_29  prosody_30  prosody_31  prosody_32  prosody_33  prosody_34  \\\n",
       "0    3.809111    0.099029    0.174755   -0.000049    0.492939    0.106559   \n",
       "1    8.712753    0.233649    0.200129   -0.000010    0.495782    0.092931   \n",
       "2    4.360570    0.166883    0.178108    0.000614    0.587990    0.087535   \n",
       "3    7.707888    0.207825    0.241734   -0.000744    0.458649    0.110917   \n",
       "4    7.662752    0.326095    0.407384    0.001590    0.609136    0.088405   \n",
       "\n",
       "   prosody_35  prosody_36  \n",
       "0    0.317760    0.211201  \n",
       "1    0.513417    0.420486  \n",
       "2    0.407907    0.320373  \n",
       "3    0.648779    0.537863  \n",
       "4    0.823303    0.734897  \n",
       "\n",
       "[5 rows x 37 columns]"
      ]
     },
     "execution_count": 5,
     "metadata": {},
     "output_type": "execute_result"
    }
   ],
   "source": [
    "prosody.head()"
   ]
  },
  {
   "cell_type": "code",
   "execution_count": 6,
   "metadata": {},
   "outputs": [
    {
     "data": {
      "text/plain": [
       "10039"
      ]
     },
     "execution_count": 6,
     "metadata": {},
     "output_type": "execute_result"
    }
   ],
   "source": [
    "len(prosody)"
   ]
  },
  {
   "cell_type": "code",
   "execution_count": 9,
   "metadata": {},
   "outputs": [],
   "source": [
    "prosody.drop(columns=['prosody_0', 'prosody_36'],axis=1,inplace=True)"
   ]
  },
  {
   "cell_type": "code",
   "execution_count": 10,
   "metadata": {},
   "outputs": [
    {
     "data": {
      "text/html": [
       "<div>\n",
       "<style scoped>\n",
       "    .dataframe tbody tr th:only-of-type {\n",
       "        vertical-align: middle;\n",
       "    }\n",
       "\n",
       "    .dataframe tbody tr th {\n",
       "        vertical-align: top;\n",
       "    }\n",
       "\n",
       "    .dataframe thead th {\n",
       "        text-align: right;\n",
       "    }\n",
       "</style>\n",
       "<table border=\"1\" class=\"dataframe\">\n",
       "  <thead>\n",
       "    <tr style=\"text-align: right;\">\n",
       "      <th></th>\n",
       "      <th>prosody_1</th>\n",
       "      <th>prosody_2</th>\n",
       "      <th>prosody_3</th>\n",
       "      <th>prosody_4</th>\n",
       "      <th>prosody_5</th>\n",
       "      <th>prosody_6</th>\n",
       "      <th>prosody_7</th>\n",
       "      <th>prosody_8</th>\n",
       "      <th>prosody_9</th>\n",
       "      <th>prosody_10</th>\n",
       "      <th>...</th>\n",
       "      <th>prosody_26</th>\n",
       "      <th>prosody_27</th>\n",
       "      <th>prosody_28</th>\n",
       "      <th>prosody_29</th>\n",
       "      <th>prosody_30</th>\n",
       "      <th>prosody_31</th>\n",
       "      <th>prosody_32</th>\n",
       "      <th>prosody_33</th>\n",
       "      <th>prosody_34</th>\n",
       "      <th>prosody_35</th>\n",
       "    </tr>\n",
       "  </thead>\n",
       "  <tbody>\n",
       "    <tr>\n",
       "      <th>0</th>\n",
       "      <td>0.0</td>\n",
       "      <td>20.64425</td>\n",
       "      <td>232.1275</td>\n",
       "      <td>2.030399</td>\n",
       "      <td>0.506444</td>\n",
       "      <td>209.3577</td>\n",
       "      <td>266.9864</td>\n",
       "      <td>57.62862</td>\n",
       "      <td>1.513165</td>\n",
       "      <td>36.86072</td>\n",
       "      <td>...</td>\n",
       "      <td>0.493376</td>\n",
       "      <td>8.299117</td>\n",
       "      <td>12.108230</td>\n",
       "      <td>3.809111</td>\n",
       "      <td>0.099029</td>\n",
       "      <td>0.174755</td>\n",
       "      <td>-0.000049</td>\n",
       "      <td>0.492939</td>\n",
       "      <td>0.106559</td>\n",
       "      <td>0.317760</td>\n",
       "    </tr>\n",
       "    <tr>\n",
       "      <th>1</th>\n",
       "      <td>0.0</td>\n",
       "      <td>10.81076</td>\n",
       "      <td>194.5723</td>\n",
       "      <td>-3.378786</td>\n",
       "      <td>0.438759</td>\n",
       "      <td>179.0551</td>\n",
       "      <td>207.1413</td>\n",
       "      <td>28.08618</td>\n",
       "      <td>0.973374</td>\n",
       "      <td>33.84438</td>\n",
       "      <td>...</td>\n",
       "      <td>0.293385</td>\n",
       "      <td>-0.054581</td>\n",
       "      <td>8.658173</td>\n",
       "      <td>8.712753</td>\n",
       "      <td>0.233649</td>\n",
       "      <td>0.200129</td>\n",
       "      <td>-0.000010</td>\n",
       "      <td>0.495782</td>\n",
       "      <td>0.092931</td>\n",
       "      <td>0.513417</td>\n",
       "    </tr>\n",
       "    <tr>\n",
       "      <th>2</th>\n",
       "      <td>0.0</td>\n",
       "      <td>33.05114</td>\n",
       "      <td>197.8396</td>\n",
       "      <td>1.728453</td>\n",
       "      <td>0.522605</td>\n",
       "      <td>167.1211</td>\n",
       "      <td>253.2337</td>\n",
       "      <td>86.11264</td>\n",
       "      <td>2.739230</td>\n",
       "      <td>33.93584</td>\n",
       "      <td>...</td>\n",
       "      <td>0.520057</td>\n",
       "      <td>3.998094</td>\n",
       "      <td>8.358664</td>\n",
       "      <td>4.360570</td>\n",
       "      <td>0.166883</td>\n",
       "      <td>0.178108</td>\n",
       "      <td>0.000614</td>\n",
       "      <td>0.587990</td>\n",
       "      <td>0.087535</td>\n",
       "      <td>0.407907</td>\n",
       "    </tr>\n",
       "    <tr>\n",
       "      <th>3</th>\n",
       "      <td>0.0</td>\n",
       "      <td>36.22232</td>\n",
       "      <td>199.3219</td>\n",
       "      <td>-2.667096</td>\n",
       "      <td>0.452827</td>\n",
       "      <td>151.7962</td>\n",
       "      <td>244.4760</td>\n",
       "      <td>92.67975</td>\n",
       "      <td>3.216807</td>\n",
       "      <td>33.99052</td>\n",
       "      <td>...</td>\n",
       "      <td>0.414070</td>\n",
       "      <td>3.699540</td>\n",
       "      <td>11.407430</td>\n",
       "      <td>7.707888</td>\n",
       "      <td>0.207825</td>\n",
       "      <td>0.241734</td>\n",
       "      <td>-0.000744</td>\n",
       "      <td>0.458649</td>\n",
       "      <td>0.110917</td>\n",
       "      <td>0.648779</td>\n",
       "    </tr>\n",
       "    <tr>\n",
       "      <th>4</th>\n",
       "      <td>0.0</td>\n",
       "      <td>36.19945</td>\n",
       "      <td>211.1463</td>\n",
       "      <td>-0.504644</td>\n",
       "      <td>0.463565</td>\n",
       "      <td>170.2304</td>\n",
       "      <td>260.9392</td>\n",
       "      <td>90.70880</td>\n",
       "      <td>2.907790</td>\n",
       "      <td>35.02132</td>\n",
       "      <td>...</td>\n",
       "      <td>0.419757</td>\n",
       "      <td>3.568487</td>\n",
       "      <td>11.231240</td>\n",
       "      <td>7.662752</td>\n",
       "      <td>0.326095</td>\n",
       "      <td>0.407384</td>\n",
       "      <td>0.001590</td>\n",
       "      <td>0.609136</td>\n",
       "      <td>0.088405</td>\n",
       "      <td>0.823303</td>\n",
       "    </tr>\n",
       "  </tbody>\n",
       "</table>\n",
       "<p>5 rows × 35 columns</p>\n",
       "</div>"
      ],
      "text/plain": [
       "   prosody_1  prosody_2  prosody_3  prosody_4  prosody_5  prosody_6  \\\n",
       "0        0.0   20.64425   232.1275   2.030399   0.506444   209.3577   \n",
       "1        0.0   10.81076   194.5723  -3.378786   0.438759   179.0551   \n",
       "2        0.0   33.05114   197.8396   1.728453   0.522605   167.1211   \n",
       "3        0.0   36.22232   199.3219  -2.667096   0.452827   151.7962   \n",
       "4        0.0   36.19945   211.1463  -0.504644   0.463565   170.2304   \n",
       "\n",
       "   prosody_7  prosody_8  prosody_9  prosody_10  ...  prosody_26  prosody_27  \\\n",
       "0   266.9864   57.62862   1.513165    36.86072  ...    0.493376    8.299117   \n",
       "1   207.1413   28.08618   0.973374    33.84438  ...    0.293385   -0.054581   \n",
       "2   253.2337   86.11264   2.739230    33.93584  ...    0.520057    3.998094   \n",
       "3   244.4760   92.67975   3.216807    33.99052  ...    0.414070    3.699540   \n",
       "4   260.9392   90.70880   2.907790    35.02132  ...    0.419757    3.568487   \n",
       "\n",
       "   prosody_28  prosody_29  prosody_30  prosody_31  prosody_32  prosody_33  \\\n",
       "0   12.108230    3.809111    0.099029    0.174755   -0.000049    0.492939   \n",
       "1    8.658173    8.712753    0.233649    0.200129   -0.000010    0.495782   \n",
       "2    8.358664    4.360570    0.166883    0.178108    0.000614    0.587990   \n",
       "3   11.407430    7.707888    0.207825    0.241734   -0.000744    0.458649   \n",
       "4   11.231240    7.662752    0.326095    0.407384    0.001590    0.609136   \n",
       "\n",
       "   prosody_34  prosody_35  \n",
       "0    0.106559    0.317760  \n",
       "1    0.092931    0.513417  \n",
       "2    0.087535    0.407907  \n",
       "3    0.110917    0.648779  \n",
       "4    0.088405    0.823303  \n",
       "\n",
       "[5 rows x 35 columns]"
      ]
     },
     "execution_count": 10,
     "metadata": {},
     "output_type": "execute_result"
    }
   ],
   "source": [
    "prosody.head()"
   ]
  },
  {
   "cell_type": "code",
   "execution_count": 12,
   "metadata": {},
   "outputs": [],
   "source": [
    "np_prosody = prosody.values"
   ]
  },
  {
   "cell_type": "code",
   "execution_count": 14,
   "metadata": {},
   "outputs": [
    {
     "data": {
      "text/plain": [
       "(10039, 35)"
      ]
     },
     "execution_count": 14,
     "metadata": {},
     "output_type": "execute_result"
    }
   ],
   "source": [
    "np_prosody.shape"
   ]
  },
  {
   "cell_type": "code",
   "execution_count": 7,
   "metadata": {},
   "outputs": [],
   "source": [
    "#lines = []\n",
    "#with open('../data/processed/IEMOCAP/prosody.csv') as f:\n",
    "#    csv_reader = csv.reader(f)\n",
    "#    lines = [x for x in csv_reader]\n",
    "#len(lines)"
   ]
  },
  {
   "cell_type": "code",
   "execution_count": 11,
   "metadata": {},
   "outputs": [],
   "source": [
    "#np_prosody = np.zeros( [10039, 35], dtype=np.float)\n",
    "#np.shape(np_prosody)"
   ]
  },
  {
   "cell_type": "code",
   "execution_count": 41,
   "metadata": {},
   "outputs": [],
   "source": [
    "#for i in range( len(np_prosody) ):\n",
    "#    np_prosody[i] = lines[i][1:-1]"
   ]
  },
  {
   "cell_type": "code",
   "execution_count": null,
   "metadata": {},
   "outputs": [],
   "source": []
  },
  {
   "cell_type": "markdown",
   "metadata": {},
   "source": [
    "#### 04-B  numpy save"
   ]
  },
  {
   "cell_type": "code",
   "execution_count": 15,
   "metadata": {},
   "outputs": [],
   "source": [
    "np.save('../data/processed/IEMOCAP/processed_prosody.npy', np_prosody)"
   ]
  },
  {
   "cell_type": "code",
   "execution_count": null,
   "metadata": {},
   "outputs": [],
   "source": []
  },
  {
   "cell_type": "markdown",
   "metadata": {},
   "source": [
    "## 05 emobase2010 post-process\n",
    "- [0]frameTime aws removed from original feature (total 1583)\n",
    "- (10039, 1582) "
   ]
  },
  {
   "cell_type": "markdown",
   "metadata": {},
   "source": [
    "#### 05-A load emobase2010 feature  &  conver to np format"
   ]
  },
  {
   "cell_type": "code",
   "execution_count": 21,
   "metadata": {},
   "outputs": [],
   "source": [
    "emobase = pd.read_csv('../data/processed/IEMOCAP/emobase2010.csv', sep=';', header=None)"
   ]
  },
  {
   "cell_type": "code",
   "execution_count": 22,
   "metadata": {},
   "outputs": [],
   "source": [
    "emobase.columns = ['emobase_' + str(col) for col in emobase.columns]"
   ]
  },
  {
   "cell_type": "code",
   "execution_count": 23,
   "metadata": {},
   "outputs": [
    {
     "data": {
      "text/html": [
       "<div>\n",
       "<style scoped>\n",
       "    .dataframe tbody tr th:only-of-type {\n",
       "        vertical-align: middle;\n",
       "    }\n",
       "\n",
       "    .dataframe tbody tr th {\n",
       "        vertical-align: top;\n",
       "    }\n",
       "\n",
       "    .dataframe thead th {\n",
       "        text-align: right;\n",
       "    }\n",
       "</style>\n",
       "<table border=\"1\" class=\"dataframe\">\n",
       "  <thead>\n",
       "    <tr style=\"text-align: right;\">\n",
       "      <th></th>\n",
       "      <th>emobase_0</th>\n",
       "      <th>emobase_1</th>\n",
       "      <th>emobase_2</th>\n",
       "      <th>emobase_3</th>\n",
       "      <th>emobase_4</th>\n",
       "      <th>emobase_5</th>\n",
       "      <th>emobase_6</th>\n",
       "      <th>emobase_7</th>\n",
       "      <th>emobase_8</th>\n",
       "      <th>emobase_9</th>\n",
       "      <th>...</th>\n",
       "      <th>emobase_1573</th>\n",
       "      <th>emobase_1574</th>\n",
       "      <th>emobase_1575</th>\n",
       "      <th>emobase_1576</th>\n",
       "      <th>emobase_1577</th>\n",
       "      <th>emobase_1578</th>\n",
       "      <th>emobase_1579</th>\n",
       "      <th>emobase_1580</th>\n",
       "      <th>emobase_1581</th>\n",
       "      <th>emobase_1582</th>\n",
       "    </tr>\n",
       "  </thead>\n",
       "  <tbody>\n",
       "    <tr>\n",
       "      <th>0</th>\n",
       "      <td>0.0</td>\n",
       "      <td>0.467742</td>\n",
       "      <td>0.833333</td>\n",
       "      <td>0.218891</td>\n",
       "      <td>-0.000100</td>\n",
       "      <td>0.228133</td>\n",
       "      <td>0.105956</td>\n",
       "      <td>0.023803</td>\n",
       "      <td>0.154377</td>\n",
       "      <td>2.120207</td>\n",
       "      <td>...</td>\n",
       "      <td>0.001763</td>\n",
       "      <td>0.009502</td>\n",
       "      <td>0.011359</td>\n",
       "      <td>0.007738</td>\n",
       "      <td>0.019097</td>\n",
       "      <td>0.036917</td>\n",
       "      <td>0.060606</td>\n",
       "      <td>0.030303</td>\n",
       "      <td>2</td>\n",
       "      <td>1.88</td>\n",
       "    </tr>\n",
       "    <tr>\n",
       "      <th>1</th>\n",
       "      <td>0.0</td>\n",
       "      <td>0.461539</td>\n",
       "      <td>0.069231</td>\n",
       "      <td>0.230144</td>\n",
       "      <td>0.000216</td>\n",
       "      <td>0.216226</td>\n",
       "      <td>0.158655</td>\n",
       "      <td>0.064670</td>\n",
       "      <td>0.254431</td>\n",
       "      <td>2.788610</td>\n",
       "      <td>...</td>\n",
       "      <td>-0.011264</td>\n",
       "      <td>0.034994</td>\n",
       "      <td>0.027227</td>\n",
       "      <td>0.046259</td>\n",
       "      <td>0.073485</td>\n",
       "      <td>0.131123</td>\n",
       "      <td>0.133333</td>\n",
       "      <td>0.133333</td>\n",
       "      <td>1</td>\n",
       "      <td>1.32</td>\n",
       "    </tr>\n",
       "    <tr>\n",
       "      <th>2</th>\n",
       "      <td>0.0</td>\n",
       "      <td>0.813115</td>\n",
       "      <td>0.013115</td>\n",
       "      <td>0.221053</td>\n",
       "      <td>0.001151</td>\n",
       "      <td>0.046073</td>\n",
       "      <td>0.133856</td>\n",
       "      <td>0.040656</td>\n",
       "      <td>0.225675</td>\n",
       "      <td>2.685203</td>\n",
       "      <td>...</td>\n",
       "      <td>-0.006164</td>\n",
       "      <td>0.017823</td>\n",
       "      <td>0.021956</td>\n",
       "      <td>0.023987</td>\n",
       "      <td>0.045942</td>\n",
       "      <td>0.085396</td>\n",
       "      <td>0.075472</td>\n",
       "      <td>0.018868</td>\n",
       "      <td>5</td>\n",
       "      <td>3.07</td>\n",
       "    </tr>\n",
       "    <tr>\n",
       "      <th>3</th>\n",
       "      <td>0.0</td>\n",
       "      <td>0.503546</td>\n",
       "      <td>0.900709</td>\n",
       "      <td>0.289355</td>\n",
       "      <td>-0.000796</td>\n",
       "      <td>0.345076</td>\n",
       "      <td>0.199210</td>\n",
       "      <td>0.067312</td>\n",
       "      <td>0.261461</td>\n",
       "      <td>1.632641</td>\n",
       "      <td>...</td>\n",
       "      <td>-0.007561</td>\n",
       "      <td>0.016432</td>\n",
       "      <td>0.010939</td>\n",
       "      <td>0.023993</td>\n",
       "      <td>0.034932</td>\n",
       "      <td>0.107165</td>\n",
       "      <td>0.100000</td>\n",
       "      <td>0.033333</td>\n",
       "      <td>2</td>\n",
       "      <td>1.43</td>\n",
       "    </tr>\n",
       "    <tr>\n",
       "      <th>4</th>\n",
       "      <td>0.0</td>\n",
       "      <td>0.978979</td>\n",
       "      <td>0.774775</td>\n",
       "      <td>0.471172</td>\n",
       "      <td>0.002093</td>\n",
       "      <td>0.123702</td>\n",
       "      <td>0.214873</td>\n",
       "      <td>0.077371</td>\n",
       "      <td>0.343305</td>\n",
       "      <td>0.565674</td>\n",
       "      <td>...</td>\n",
       "      <td>-0.004175</td>\n",
       "      <td>0.017891</td>\n",
       "      <td>0.017709</td>\n",
       "      <td>0.022066</td>\n",
       "      <td>0.039775</td>\n",
       "      <td>0.123974</td>\n",
       "      <td>0.084270</td>\n",
       "      <td>0.033708</td>\n",
       "      <td>10</td>\n",
       "      <td>3.35</td>\n",
       "    </tr>\n",
       "  </tbody>\n",
       "</table>\n",
       "<p>5 rows × 1583 columns</p>\n",
       "</div>"
      ],
      "text/plain": [
       "   emobase_0  emobase_1  emobase_2  emobase_3  emobase_4  emobase_5  \\\n",
       "0        0.0   0.467742   0.833333   0.218891  -0.000100   0.228133   \n",
       "1        0.0   0.461539   0.069231   0.230144   0.000216   0.216226   \n",
       "2        0.0   0.813115   0.013115   0.221053   0.001151   0.046073   \n",
       "3        0.0   0.503546   0.900709   0.289355  -0.000796   0.345076   \n",
       "4        0.0   0.978979   0.774775   0.471172   0.002093   0.123702   \n",
       "\n",
       "   emobase_6  emobase_7  emobase_8  emobase_9  ...  emobase_1573  \\\n",
       "0   0.105956   0.023803   0.154377   2.120207  ...      0.001763   \n",
       "1   0.158655   0.064670   0.254431   2.788610  ...     -0.011264   \n",
       "2   0.133856   0.040656   0.225675   2.685203  ...     -0.006164   \n",
       "3   0.199210   0.067312   0.261461   1.632641  ...     -0.007561   \n",
       "4   0.214873   0.077371   0.343305   0.565674  ...     -0.004175   \n",
       "\n",
       "   emobase_1574  emobase_1575  emobase_1576  emobase_1577  emobase_1578  \\\n",
       "0      0.009502      0.011359      0.007738      0.019097      0.036917   \n",
       "1      0.034994      0.027227      0.046259      0.073485      0.131123   \n",
       "2      0.017823      0.021956      0.023987      0.045942      0.085396   \n",
       "3      0.016432      0.010939      0.023993      0.034932      0.107165   \n",
       "4      0.017891      0.017709      0.022066      0.039775      0.123974   \n",
       "\n",
       "   emobase_1579  emobase_1580  emobase_1581  emobase_1582  \n",
       "0      0.060606      0.030303             2          1.88  \n",
       "1      0.133333      0.133333             1          1.32  \n",
       "2      0.075472      0.018868             5          3.07  \n",
       "3      0.100000      0.033333             2          1.43  \n",
       "4      0.084270      0.033708            10          3.35  \n",
       "\n",
       "[5 rows x 1583 columns]"
      ]
     },
     "execution_count": 23,
     "metadata": {},
     "output_type": "execute_result"
    }
   ],
   "source": [
    "emobase.head()"
   ]
  },
  {
   "cell_type": "code",
   "execution_count": 24,
   "metadata": {},
   "outputs": [],
   "source": [
    "emobase.drop(columns=['emobase_0'],axis=1,inplace=True)"
   ]
  },
  {
   "cell_type": "code",
   "execution_count": 25,
   "metadata": {},
   "outputs": [
    {
     "data": {
      "text/html": [
       "<div>\n",
       "<style scoped>\n",
       "    .dataframe tbody tr th:only-of-type {\n",
       "        vertical-align: middle;\n",
       "    }\n",
       "\n",
       "    .dataframe tbody tr th {\n",
       "        vertical-align: top;\n",
       "    }\n",
       "\n",
       "    .dataframe thead th {\n",
       "        text-align: right;\n",
       "    }\n",
       "</style>\n",
       "<table border=\"1\" class=\"dataframe\">\n",
       "  <thead>\n",
       "    <tr style=\"text-align: right;\">\n",
       "      <th></th>\n",
       "      <th>emobase_1</th>\n",
       "      <th>emobase_2</th>\n",
       "      <th>emobase_3</th>\n",
       "      <th>emobase_4</th>\n",
       "      <th>emobase_5</th>\n",
       "      <th>emobase_6</th>\n",
       "      <th>emobase_7</th>\n",
       "      <th>emobase_8</th>\n",
       "      <th>emobase_9</th>\n",
       "      <th>emobase_10</th>\n",
       "      <th>...</th>\n",
       "      <th>emobase_1573</th>\n",
       "      <th>emobase_1574</th>\n",
       "      <th>emobase_1575</th>\n",
       "      <th>emobase_1576</th>\n",
       "      <th>emobase_1577</th>\n",
       "      <th>emobase_1578</th>\n",
       "      <th>emobase_1579</th>\n",
       "      <th>emobase_1580</th>\n",
       "      <th>emobase_1581</th>\n",
       "      <th>emobase_1582</th>\n",
       "    </tr>\n",
       "  </thead>\n",
       "  <tbody>\n",
       "    <tr>\n",
       "      <th>0</th>\n",
       "      <td>0.467742</td>\n",
       "      <td>0.833333</td>\n",
       "      <td>0.218891</td>\n",
       "      <td>-0.000100</td>\n",
       "      <td>0.228133</td>\n",
       "      <td>0.105956</td>\n",
       "      <td>0.023803</td>\n",
       "      <td>0.154377</td>\n",
       "      <td>2.120207</td>\n",
       "      <td>6.856981</td>\n",
       "      <td>...</td>\n",
       "      <td>0.001763</td>\n",
       "      <td>0.009502</td>\n",
       "      <td>0.011359</td>\n",
       "      <td>0.007738</td>\n",
       "      <td>0.019097</td>\n",
       "      <td>0.036917</td>\n",
       "      <td>0.060606</td>\n",
       "      <td>0.030303</td>\n",
       "      <td>2</td>\n",
       "      <td>1.88</td>\n",
       "    </tr>\n",
       "    <tr>\n",
       "      <th>1</th>\n",
       "      <td>0.461539</td>\n",
       "      <td>0.069231</td>\n",
       "      <td>0.230144</td>\n",
       "      <td>0.000216</td>\n",
       "      <td>0.216226</td>\n",
       "      <td>0.158655</td>\n",
       "      <td>0.064670</td>\n",
       "      <td>0.254431</td>\n",
       "      <td>2.788610</td>\n",
       "      <td>10.545290</td>\n",
       "      <td>...</td>\n",
       "      <td>-0.011264</td>\n",
       "      <td>0.034994</td>\n",
       "      <td>0.027227</td>\n",
       "      <td>0.046259</td>\n",
       "      <td>0.073485</td>\n",
       "      <td>0.131123</td>\n",
       "      <td>0.133333</td>\n",
       "      <td>0.133333</td>\n",
       "      <td>1</td>\n",
       "      <td>1.32</td>\n",
       "    </tr>\n",
       "    <tr>\n",
       "      <th>2</th>\n",
       "      <td>0.813115</td>\n",
       "      <td>0.013115</td>\n",
       "      <td>0.221053</td>\n",
       "      <td>0.001151</td>\n",
       "      <td>0.046073</td>\n",
       "      <td>0.133856</td>\n",
       "      <td>0.040656</td>\n",
       "      <td>0.225675</td>\n",
       "      <td>2.685203</td>\n",
       "      <td>9.970912</td>\n",
       "      <td>...</td>\n",
       "      <td>-0.006164</td>\n",
       "      <td>0.017823</td>\n",
       "      <td>0.021956</td>\n",
       "      <td>0.023987</td>\n",
       "      <td>0.045942</td>\n",
       "      <td>0.085396</td>\n",
       "      <td>0.075472</td>\n",
       "      <td>0.018868</td>\n",
       "      <td>5</td>\n",
       "      <td>3.07</td>\n",
       "    </tr>\n",
       "    <tr>\n",
       "      <th>3</th>\n",
       "      <td>0.503546</td>\n",
       "      <td>0.900709</td>\n",
       "      <td>0.289355</td>\n",
       "      <td>-0.000796</td>\n",
       "      <td>0.345076</td>\n",
       "      <td>0.199210</td>\n",
       "      <td>0.067312</td>\n",
       "      <td>0.261461</td>\n",
       "      <td>1.632641</td>\n",
       "      <td>4.497861</td>\n",
       "      <td>...</td>\n",
       "      <td>-0.007561</td>\n",
       "      <td>0.016432</td>\n",
       "      <td>0.010939</td>\n",
       "      <td>0.023993</td>\n",
       "      <td>0.034932</td>\n",
       "      <td>0.107165</td>\n",
       "      <td>0.100000</td>\n",
       "      <td>0.033333</td>\n",
       "      <td>2</td>\n",
       "      <td>1.43</td>\n",
       "    </tr>\n",
       "    <tr>\n",
       "      <th>4</th>\n",
       "      <td>0.978979</td>\n",
       "      <td>0.774775</td>\n",
       "      <td>0.471172</td>\n",
       "      <td>0.002093</td>\n",
       "      <td>0.123702</td>\n",
       "      <td>0.214873</td>\n",
       "      <td>0.077371</td>\n",
       "      <td>0.343305</td>\n",
       "      <td>0.565674</td>\n",
       "      <td>2.276433</td>\n",
       "      <td>...</td>\n",
       "      <td>-0.004175</td>\n",
       "      <td>0.017891</td>\n",
       "      <td>0.017709</td>\n",
       "      <td>0.022066</td>\n",
       "      <td>0.039775</td>\n",
       "      <td>0.123974</td>\n",
       "      <td>0.084270</td>\n",
       "      <td>0.033708</td>\n",
       "      <td>10</td>\n",
       "      <td>3.35</td>\n",
       "    </tr>\n",
       "  </tbody>\n",
       "</table>\n",
       "<p>5 rows × 1582 columns</p>\n",
       "</div>"
      ],
      "text/plain": [
       "   emobase_1  emobase_2  emobase_3  emobase_4  emobase_5  emobase_6  \\\n",
       "0   0.467742   0.833333   0.218891  -0.000100   0.228133   0.105956   \n",
       "1   0.461539   0.069231   0.230144   0.000216   0.216226   0.158655   \n",
       "2   0.813115   0.013115   0.221053   0.001151   0.046073   0.133856   \n",
       "3   0.503546   0.900709   0.289355  -0.000796   0.345076   0.199210   \n",
       "4   0.978979   0.774775   0.471172   0.002093   0.123702   0.214873   \n",
       "\n",
       "   emobase_7  emobase_8  emobase_9  emobase_10  ...  emobase_1573  \\\n",
       "0   0.023803   0.154377   2.120207    6.856981  ...      0.001763   \n",
       "1   0.064670   0.254431   2.788610   10.545290  ...     -0.011264   \n",
       "2   0.040656   0.225675   2.685203    9.970912  ...     -0.006164   \n",
       "3   0.067312   0.261461   1.632641    4.497861  ...     -0.007561   \n",
       "4   0.077371   0.343305   0.565674    2.276433  ...     -0.004175   \n",
       "\n",
       "   emobase_1574  emobase_1575  emobase_1576  emobase_1577  emobase_1578  \\\n",
       "0      0.009502      0.011359      0.007738      0.019097      0.036917   \n",
       "1      0.034994      0.027227      0.046259      0.073485      0.131123   \n",
       "2      0.017823      0.021956      0.023987      0.045942      0.085396   \n",
       "3      0.016432      0.010939      0.023993      0.034932      0.107165   \n",
       "4      0.017891      0.017709      0.022066      0.039775      0.123974   \n",
       "\n",
       "   emobase_1579  emobase_1580  emobase_1581  emobase_1582  \n",
       "0      0.060606      0.030303             2          1.88  \n",
       "1      0.133333      0.133333             1          1.32  \n",
       "2      0.075472      0.018868             5          3.07  \n",
       "3      0.100000      0.033333             2          1.43  \n",
       "4      0.084270      0.033708            10          3.35  \n",
       "\n",
       "[5 rows x 1582 columns]"
      ]
     },
     "execution_count": 25,
     "metadata": {},
     "output_type": "execute_result"
    }
   ],
   "source": [
    "emobase.head()"
   ]
  },
  {
   "cell_type": "code",
   "execution_count": 26,
   "metadata": {},
   "outputs": [],
   "source": [
    "np_emobase = emobase.values"
   ]
  },
  {
   "cell_type": "code",
   "execution_count": 27,
   "metadata": {},
   "outputs": [
    {
     "data": {
      "text/plain": [
       "(10039, 1582)"
      ]
     },
     "execution_count": 27,
     "metadata": {},
     "output_type": "execute_result"
    }
   ],
   "source": [
    "np_emobase.shape"
   ]
  },
  {
   "cell_type": "code",
   "execution_count": 28,
   "metadata": {},
   "outputs": [],
   "source": [
    "#lines = []\n",
    "#with open('../data/processed/IEMOCAP/emobase2010.csv') as f:\n",
    "#    csv_reader = csv.reader(f)\n",
    "#    lines = [x for x in csv_reader]\n",
    "\n",
    "#lines = [x[0].split(';') for x in lines]\n",
    "#lines = [ [float(t) for t in x] for x in lines]\n",
    "#len(lines)"
   ]
  },
  {
   "cell_type": "code",
   "execution_count": 30,
   "metadata": {},
   "outputs": [],
   "source": [
    "#np_emobase = np.zeros( [10039, 1582], dtype=np.float)\n",
    "#np.shape(np_emobase)"
   ]
  },
  {
   "cell_type": "code",
   "execution_count": 31,
   "metadata": {},
   "outputs": [],
   "source": [
    "#for i in xrange( len(np_emobase) ):\n",
    "#    np_emobase[i] = lines[i][1:]    "
   ]
  },
  {
   "cell_type": "code",
   "execution_count": null,
   "metadata": {},
   "outputs": [],
   "source": []
  },
  {
   "cell_type": "markdown",
   "metadata": {},
   "source": [
    "#### 04-B  numpy save"
   ]
  },
  {
   "cell_type": "code",
   "execution_count": 32,
   "metadata": {},
   "outputs": [],
   "source": [
    "np.save('../data/processed/IEMOCAP/processed_emobase2010.npy', np_emobase)"
   ]
  },
  {
   "cell_type": "code",
   "execution_count": 33,
   "metadata": {},
   "outputs": [
    {
     "data": {
      "text/plain": [
       "(10039, 1582)"
      ]
     },
     "execution_count": 33,
     "metadata": {},
     "output_type": "execute_result"
    }
   ],
   "source": [
    "tmp = np.load( '../data/processed/IEMOCAP/processed_emobase2010.npy')\n",
    "np.shape(tmp)"
   ]
  },
  {
   "cell_type": "code",
   "execution_count": null,
   "metadata": {},
   "outputs": [],
   "source": []
  }
 ],
 "metadata": {
  "kernelspec": {
   "display_name": "dsp",
   "language": "python",
   "name": "dsp"
  },
  "language_info": {
   "codemirror_mode": {
    "name": "ipython",
    "version": 3
   },
   "file_extension": ".py",
   "mimetype": "text/x-python",
   "name": "python",
   "nbconvert_exporter": "python",
   "pygments_lexer": "ipython3",
   "version": "3.7.3"
  }
 },
 "nbformat": 4,
 "nbformat_minor": 2
}
