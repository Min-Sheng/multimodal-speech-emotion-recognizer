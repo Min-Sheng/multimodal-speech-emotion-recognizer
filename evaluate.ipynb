{
 "cells": [
  {
   "cell_type": "code",
   "execution_count": 1,
   "metadata": {},
   "outputs": [],
   "source": [
    "import os\n",
    "import torch\n",
    "from data_loader.single_text_loader import SingleTextLoader\n",
    "from model.single_text_model import SingleTextModel\n",
    "from config.single_text_config import *    \n",
    "from single_text_trainer import *"
   ]
  },
  {
   "cell_type": "code",
   "execution_count": 2,
   "metadata": {},
   "outputs": [
    {
     "name": "stdout",
     "output_type": "stream",
     "text": [
      "load data : train_nlp_trans.npy train_label.npy\n",
      "[completed] load data\n",
      "load data : dev_nlp_trans.npy dev_label.npy\n",
      "[completed] load data\n",
      "load data : test_nlp_trans.npy test_label.npy\n",
      "[completed] load data\n"
     ]
    }
   ],
   "source": [
    "batch_gen = SingleTextLoader()"
   ]
  },
  {
   "cell_type": "code",
   "execution_count": 3,
   "metadata": {},
   "outputs": [],
   "source": [
    "model = torch.load('save/t2eEncoder_model.pkl')"
   ]
  },
  {
   "cell_type": "code",
   "execution_count": 4,
   "metadata": {},
   "outputs": [],
   "source": [
    "device = 'cuda:{}'.format(GPU) if \\\n",
    "             torch.cuda.is_available() else 'cpu'"
   ]
  },
  {
   "cell_type": "code",
   "execution_count": 5,
   "metadata": {},
   "outputs": [],
   "source": [
    "criterion = nn.CrossEntropyLoss(reduction='none')"
   ]
  },
  {
   "cell_type": "code",
   "execution_count": 6,
   "metadata": {},
   "outputs": [],
   "source": [
    "test_ce, test_accr = run_eval(model=model, \n",
    "                              batch_gen=batch_gen, \n",
    "                              data=batch_gen.test_set, \n",
    "                              criterion=criterion,\n",
    "                              device=device,is_logging=True)"
   ]
  },
  {
   "cell_type": "code",
   "execution_count": 7,
   "metadata": {},
   "outputs": [],
   "source": [
    "import os\n",
    "import torch\n",
    "from data_loader.single_audio_loader import SingleAudioLoader\n",
    "from model.single_audio_model import SingleAudioModel\n",
    "from config.single_audio_config import *\n",
    "from single_audio_trainer import *"
   ]
  },
  {
   "cell_type": "code",
   "execution_count": 8,
   "metadata": {},
   "outputs": [
    {
     "name": "stdout",
     "output_type": "stream",
     "text": [
      "load data : train_audio_mfcc.npy train_seqN.npy train_audio_prosody.npy train_label.npy\n",
      "[completed] load data\n",
      "load data : dev_audio_mfcc.npy dev_seqN.npy dev_audio_prosody.npy dev_label.npy\n",
      "[completed] load data\n",
      "load data : test_audio_mfcc.npy test_seqN.npy test_audio_prosody.npy test_label.npy\n",
      "[completed] load data\n"
     ]
    }
   ],
   "source": [
    "batch_gen = SingleAudioLoader()"
   ]
  },
  {
   "cell_type": "code",
   "execution_count": 9,
   "metadata": {},
   "outputs": [],
   "source": [
    "model = torch.load('save/a2eEncoder_model.pkl')"
   ]
  },
  {
   "cell_type": "code",
   "execution_count": 10,
   "metadata": {},
   "outputs": [],
   "source": [
    "test_ce, test_accr = run_eval(model=model, \n",
    "                              batch_gen=batch_gen, \n",
    "                              data=batch_gen.test_set, \n",
    "                              criterion=criterion,\n",
    "                              device=device,is_logging=True)"
   ]
  },
  {
   "cell_type": "code",
   "execution_count": 12,
   "metadata": {},
   "outputs": [],
   "source": [
    "import os\n",
    "import torch\n",
    "from data_loader.multi_modal_loader import MultiModalLoader\n",
    "from model.multi_modal_model import MultiModalModel\n",
    "from config.multi_modal_config import *\n",
    "from multi_modal_trainer import *"
   ]
  },
  {
   "cell_type": "code",
   "execution_count": 13,
   "metadata": {},
   "outputs": [
    {
     "name": "stdout",
     "output_type": "stream",
     "text": [
      "load data : train_audio_mfcc.npy train_seqN.npy train_audio_prosody.npy train_nlp_trans.npy train_label.npy\n",
      "[completed] load data\n",
      "load data : dev_audio_mfcc.npy dev_seqN.npy dev_audio_prosody.npy dev_nlp_trans.npy dev_label.npy\n",
      "[completed] load data\n",
      "load data : test_audio_mfcc.npy test_seqN.npy test_audio_prosody.npy test_nlp_trans.npy test_label.npy\n",
      "[completed] load data\n"
     ]
    }
   ],
   "source": [
    "batch_gen = MultiModalLoader()"
   ]
  },
  {
   "cell_type": "code",
   "execution_count": null,
   "metadata": {},
   "outputs": [],
   "source": [
    "model = torch.load('save/multimodalEncoder_model.pkl')"
   ]
  },
  {
   "cell_type": "code",
   "execution_count": 15,
   "metadata": {},
   "outputs": [],
   "source": [
    "test_ce, test_accr = run_eval(model=model, \n",
    "                              batch_gen=batch_gen, \n",
    "                              data=batch_gen.test_set, \n",
    "                              criterion=criterion,\n",
    "                              device=device,is_logging=True)"
   ]
  },
  {
   "cell_type": "code",
   "execution_count": 16,
   "metadata": {},
   "outputs": [],
   "source": [
    "import os\n",
    "import torch\n",
    "from data_loader.multi_modal_loader import MultiModalLoader\n",
    "from model.multi_modal_attn_model import MultiModalAttnModel\n",
    "from config.multi_modal_attn_config import *\n",
    "from multi_modal_attn_trainer import *"
   ]
  },
  {
   "cell_type": "code",
   "execution_count": 17,
   "metadata": {},
   "outputs": [
    {
     "name": "stdout",
     "output_type": "stream",
     "text": [
      "load data : train_audio_mfcc.npy train_seqN.npy train_audio_prosody.npy train_nlp_trans.npy train_label.npy\n",
      "[completed] load data\n",
      "load data : dev_audio_mfcc.npy dev_seqN.npy dev_audio_prosody.npy dev_nlp_trans.npy dev_label.npy\n",
      "[completed] load data\n",
      "load data : test_audio_mfcc.npy test_seqN.npy test_audio_prosody.npy test_nlp_trans.npy test_label.npy\n",
      "[completed] load data\n"
     ]
    }
   ],
   "source": [
    "batch_gen = MultiModalLoader()"
   ]
  },
  {
   "cell_type": "code",
   "execution_count": 18,
   "metadata": {},
   "outputs": [],
   "source": [
    "model = torch.load('save/multimodalAtnnEncoder_model.pkl')"
   ]
  },
  {
   "cell_type": "code",
   "execution_count": 19,
   "metadata": {},
   "outputs": [],
   "source": [
    "test_ce, test_accr = run_eval(model=model, \n",
    "                              batch_gen=batch_gen, \n",
    "                              data=batch_gen.test_set, \n",
    "                              criterion=criterion,\n",
    "                              device=device,is_logging=True)"
   ]
  },
  {
   "cell_type": "code",
   "execution_count": null,
   "metadata": {},
   "outputs": [],
   "source": []
  }
 ],
 "metadata": {
  "kernelspec": {
   "display_name": "dsp",
   "language": "python",
   "name": "dsp"
  },
  "language_info": {
   "codemirror_mode": {
    "name": "ipython",
    "version": 3
   },
   "file_extension": ".py",
   "mimetype": "text/x-python",
   "name": "python",
   "nbconvert_exporter": "python",
   "pygments_lexer": "ipython3",
   "version": "3.7.3"
  }
 },
 "nbformat": 4,
 "nbformat_minor": 2
}
